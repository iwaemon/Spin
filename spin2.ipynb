{
 "cells": [
  {
   "cell_type": "markdown",
   "metadata": {},
   "source": [
    "# 古典スピンの極座標表示\n",
    "極座標表示した大きさ1の古典スピンは以下のようになる。\n",
    "$$\n",
    "\\vec{S}_i=\\left(\\sin\\theta_i\\cos\\phi_i,\\sin\\theta_i\\sin\\phi_i,\\cos\\theta_i\\right)\n",
    "$$\n",
    "\n",
    "$ \\theta $と$ \\phi $を与えたときにこれを表示するプログラムは以下のようになる。"
   ]
  },
  {
   "cell_type": "code",
   "execution_count": 1,
   "metadata": {},
   "outputs": [],
   "source": [
    "mutable struct Spin\n",
    "    θ:: Float64\n",
    "    φ:: Float64\n",
    "end"
   ]
  },
  {
   "cell_type": "code",
   "execution_count": 2,
   "metadata": {},
   "outputs": [
    {
     "data": {
      "text/plain": [
       "Sxyz (generic function with 1 method)"
      ]
     },
     "execution_count": 2,
     "metadata": {},
     "output_type": "execute_result"
    }
   ],
   "source": [
    "function Sxyz(spin1::Spin)\n",
    "    S=zeros(Float64,3)\n",
    "    S[1]=sin(spin1.θ)*cos(spin1.φ)\n",
    "    S[2]=sin(spin1.θ)*sin(spin1.φ)\n",
    "    S[3]=cos(spin1.θ)\n",
    "    return S\n",
    "end"
   ]
  },
  {
   "cell_type": "code",
   "execution_count": 3,
   "metadata": {},
   "outputs": [
    {
     "name": "stdout",
     "output_type": "stream",
     "text": [
      "[1.0, 0.0, 6.12323e-17]\n"
     ]
    }
   ],
   "source": [
    "spin1=Spin(π/2,0.0)\n",
    "S1=Sxyz(spin1)\n",
    "println(S1)"
   ]
  },
  {
   "cell_type": "markdown",
   "metadata": {},
   "source": [
    "# type Spin に対して　和・差・積を定義する\n",
    "以下のようにtype Spin　に対して適当な演算を定義する事ができる。"
   ]
  },
  {
   "cell_type": "code",
   "execution_count": 4,
   "metadata": {},
   "outputs": [
    {
     "name": "stdout",
     "output_type": "stream",
     "text": [
      "Spin(1.0, 1.0)Spin(1.0, 3.0)Spin(2.0, 4.0)Spin(0.0, -2.0)4.0\n"
     ]
    }
   ],
   "source": [
    "Base.:+(a::Spin,b::Spin) = Spin(a.θ+b.θ,a.φ+b.φ)\n",
    "Base.:-(a::Spin,b::Spin) = Spin(a.θ-b.θ,a.φ-b.φ)\n",
    "Base.:*(a::Spin,b::Spin) = a.θ*b.θ+a.φ*b.φ\n",
    "\n",
    "spin1=Spin(1.0,1.0)\n",
    "spin2=Spin(1.0,3.0)\n",
    "spin3=spin1+spin2\n",
    "spin4=spin1-spin2\n",
    "spin5=spin1*spin2\n",
    "println(spin1,spin2,spin3,spin4,spin5)"
   ]
  },
  {
   "cell_type": "markdown",
   "metadata": {},
   "source": [
    "# 古典スピンの和・差・内積を計算するプログラム\n",
    "極座標表示した大きさ1の古典スピン\n",
    "$$\n",
    "\\vec{S}_i=\\left(\\sin\\theta_i\\cos\\phi_i,\\sin\\theta_i\\sin\\phi_i,\\cos\\theta_i\\right)\n",
    "$$\n",
    "に対して、和・差・内積はそれぞれ、\n",
    "$$\n",
    "\\vec{S}_1+\\vec{S}_2\n",
    "=\n",
    "\\left(\\sin\\theta_1\\cos\\phi_1+\\sin\\theta_2\\cos\\phi_2,\\sin\\theta_1\\sin\\phi_1+\\sin\\theta_2\\sin\\phi_2,\\cos\\theta_1+\\cos\\theta_2 \\right)\n",
    "$$\n",
    "\n",
    "$$\n",
    "\\vec{S}_1\\cdot\\vec{S}_2=\\sin\\theta_1\\sin\\theta_2\\cos(\\phi_1-\\phi_2)+\\cos\\theta_1\\cos\\theta_2\n",
    "$$\n",
    "\n",
    "である。$ \\theta $と$ \\phi $を与えたときにこれらを返す演算を作る"
   ]
  },
  {
   "cell_type": "code",
   "execution_count": 5,
   "metadata": {},
   "outputs": [
    {
     "name": "stdout",
     "output_type": "stream",
     "text": [
      "[1.0, 0.0, 6.12323e-17]\n",
      "[0.0, 0.0, 1.0]\n",
      "[1.0, 0.0, 1.0][1.0, 0.0, -1.0]6.123233995736766e-17\n"
     ]
    }
   ],
   "source": [
    "spin1=Spin(π/2,0.0)\n",
    "S1=Sxyz(spin1)\n",
    "println(S1)\n",
    "\n",
    "spin2=Spin(0.0,π/2)\n",
    "S2=Sxyz(spin2)\n",
    "println(S2)\n",
    "\n",
    "S3=S1+S2\n",
    "S4=S1-S2\n",
    "product=S1'*S2\n",
    "\n",
    "println(S3,S4,product)"
   ]
  },
  {
   "cell_type": "code",
   "execution_count": 6,
   "metadata": {
    "scrolled": false
   },
   "outputs": [
    {
     "name": "stdout",
     "output_type": "stream",
     "text": [
      "----------------------------\n",
      "φ= 0.0, θ = 1.5707963267948966\n",
      "Sx = 1.0, Sy = 0.0, Sz = 6.123233995736766e-17\n",
      "----------------------------\n",
      "----------------------------\n",
      "φ= 1.5707963267948966, θ = 0.0\n",
      "Sx = 0.0, Sy = 0.0, Sz = 1.0\n",
      "----------------------------\n",
      "[1.0, 0.0, 1.0]\n",
      "[1.0, 0.0, -1.0]\n",
      "6.123233995736766e-17\n",
      "----------------------------\n",
      "φ= 0.0, θ = 0.0\n",
      "Sx = 0.0, Sy = 0.0, Sz = 1.0\n",
      "----------------------------\n",
      "----------------------------\n",
      "φ= 0.0, θ = 0.0\n",
      "Sx = 0.0, Sy = 0.0, Sz = 1.0\n",
      "----------------------------\n",
      "----------------------------\n",
      "φ= 0.0, θ = 0.0\n",
      "Sx = 0.0, Sy = 0.0, Sz = 1.0\n",
      "----------------------------\n",
      "----------------------------\n",
      "φ= 0.0, θ = 0.0\n",
      "Sx = 0.0, Sy = 0.0, Sz = 1.0\n",
      "----------------------------\n",
      "----------------------------\n",
      "φ= 0.0, θ = 0.0\n",
      "Sx = 0.0, Sy = 0.0, Sz = 1.0\n",
      "----------------------------\n",
      "----------------------------\n",
      "φ= 0.0, θ = 0.0\n",
      "Sx = 0.0, Sy = 0.0, Sz = 1.0\n",
      "----------------------------\n",
      "----------------------------\n",
      "φ= 0.0, θ = 0.0\n",
      "Sx = 0.0, Sy = 0.0, Sz = 1.0\n",
      "----------------------------\n",
      "----------------------------\n",
      "φ= 0.0, θ = 0.0\n",
      "Sx = 0.0, Sy = 0.0, Sz = 1.0\n",
      "----------------------------\n",
      "----------------------------\n",
      "φ= 0.0, θ = 0.0\n",
      "Sx = 0.0, Sy = 0.0, Sz = 1.0\n",
      "----------------------------\n",
      "----------------------------\n",
      "φ= 0.0, θ = 0.0\n",
      "Sx = 0.0, Sy = 0.0, Sz = 1.0\n",
      "----------------------------\n",
      "----------------------------\n",
      "φ= 5.953297938870798, θ = 0.565307428376948\n",
      "Sx = 0.5067911973786767, Sy = -0.17352481255694008, Sz = 0.8444239584986715\n",
      "----------------------------\n",
      "----------------------------\n",
      "φ= 4.188963810544235, θ = 0.19220268085039255\n",
      "Sx = -0.09548201755460899, Sy = -0.1654460304699904, Sz = 0.9815858573377187\n",
      "----------------------------\n"
     ]
    }
   ],
   "source": [
    "mutable struct Spin\n",
    "    θ:: Float64\n",
    "    φ:: Float64\n",
    "end\n",
    "\n",
    "function Sxyz(spin1::Spin)\n",
    "    S=zeros(Float64,3)\n",
    "    S[1]=sin(spin1.θ)*cos(spin1.φ)\n",
    "    S[2]=sin(spin1.θ)*sin(spin1.φ)\n",
    "    S[3]=cos(spin1.θ)\n",
    "    return S\n",
    "end\n",
    "\n",
    "function Base.:+(a::Spin,b::Spin)\n",
    "    S1 = Sxyz(a)\n",
    "    S2 = Sxyz(b)\n",
    "    return S1+S2\n",
    "end\n",
    "\n",
    "function Base.:-(a::Spin,b::Spin)\n",
    "    S1 = Sxyz(a)\n",
    "    S2 = Sxyz(b)\n",
    "    return S1-S2\n",
    "end\n",
    "\n",
    "function Base.:*(a::Spin,b::Spin)\n",
    "    S1 = Sxyz(a)\n",
    "    S2 = Sxyz(b)\n",
    "    return S1'*S2\n",
    "end\n",
    "\n",
    "function Base.println(spin::Spin)\n",
    "    println(\"----------------------------\")\n",
    "    println(\"φ= \",spin.φ,\", θ = \",spin.θ)\n",
    "    S1 = Sxyz(spin)\n",
    "    println(\"Sx = $(S1[1]), Sy = $(S1[2]), Sz = $(S1[3])\")\n",
    "    println(\"----------------------------\")\n",
    "end\n",
    "\n",
    "spin1=Spin(π/2,0.0)\n",
    "println(spin1)\n",
    "spin2=Spin(0.0,π/2)\n",
    "println(spin2)\n",
    "println(spin1+spin2)\n",
    "println(spin1-spin2)\n",
    "println(spin1*spin2)\n",
    "\n",
    "function Base.zero(::Type{Spin})　#type{Spin}の型を要素とする配列のzerosを定義する\n",
    "    return Spin(0,0)\n",
    "end\n",
    "\n",
    "n = 10\n",
    "spin2 = zeros(Spin,n) #配列要素がSpinのn次元ベクトル　zeros(Float64,3)で3次元の要素ゼロの実ベクトルを作るのと同じ\n",
    "for i=1:n\n",
    "    println(spin2[i])\n",
    "end\n",
    "\n",
    "function flip!(a::Spin)　\n",
    "    a.θ = rand()*π  #(0,π)の範囲の乱数\n",
    "    a.φ = rand()*2π\n",
    "end\n",
    "\n",
    "function randomspin()\n",
    "    return Spin(rand()*π,rand()*2π)\n",
    "end\n",
    "\n",
    "flip!(spin1)　#もともとあるスピンをランダムに変更するか\n",
    "println(spin1)\n",
    "spin3 = randomspin()　#最初からランダムにスピンを定義するかの違い?\n",
    "println(spin3)"
   ]
  },
  {
   "cell_type": "markdown",
   "metadata": {},
   "source": [
    "# ハミルトニアンの計算\n",
    "\n",
    "Spinを要素とする配列をinputすると一次元格子上に古典スピンを並べたときのハミルトニアン\n",
    "$$\n",
    "H=J\\sum_i\\vec{S}_i \\cdot \\vec{S}_{i+1}\n",
    "$$\n",
    "を返す関数を作る。"
   ]
  },
  {
   "cell_type": "code",
   "execution_count": 7,
   "metadata": {},
   "outputs": [
    {
     "name": "stdout",
     "output_type": "stream",
     "text": [
      "----------------------------\n",
      "φ= 0.04422052635618371, θ = 1.5594355808936031\n",
      "Sx = 0.9989579623445416, Sy = 0.044203263155978084, Sz = 0.011360501520828943\n",
      "----------------------------\n",
      "----------------------------\n",
      "φ= 2.4304030785461763, θ = 2.589913263128581\n",
      "Sx = -0.39706458593126703, Sy = 0.34211053113203854, Sz = -0.8516455243161828\n",
      "----------------------------\n",
      "----------------------------\n",
      "φ= 5.06255102886977, θ = 3.013825232317178\n",
      "Sx = 0.04371146234673897, Sy = -0.11968786572496823, Sz = -0.9918488407301345\n",
      "----------------------------\n",
      "----------------------------\n",
      "φ= 2.0269555703462543, θ = 2.270146914323533\n",
      "Sx = -0.3370997432262526, Sy = 0.6870132648284115, Sz = -0.6437208533724857\n",
      "----------------------------\n",
      "----------------------------\n",
      "φ= 6.0387719838883385, θ = 3.0499904627871506\n",
      "Sx = 0.08875547865751211, Sy = -0.02213556412193929, Sz = -0.9958074521760115\n",
      "----------------------------\n",
      "----------------------------\n",
      "φ= 5.816166638568082, θ = 3.1217716600922594\n",
      "Sx = 0.017697294205963575, Sy = -0.008923346586295748, Sz = -0.9998035705394778\n",
      "----------------------------\n",
      "----------------------------\n",
      "φ= 4.320438949169793, θ = 2.518061863239792\n",
      "Sx = -0.2230466895492157, Sy = -0.5396252573560274, Sz = -0.8118218744925373\n",
      "----------------------------\n",
      "----------------------------\n",
      "φ= 0.5024502999520113, θ = 2.222822400773287\n",
      "Sx = 0.6966159368537483, Sy = 0.38278233754369817, Sz = -0.6067980871640555\n",
      "----------------------------\n",
      "----------------------------\n",
      "φ= 5.300637626909913, θ = 0.19235520458491154\n",
      "Sx = 0.10608182994032471, Sy = -0.1590379489636773, Sz = 0.9815567106112304\n",
      "----------------------------\n",
      "----------------------------\n",
      "φ= 0.022716886274167517, θ = 2.1945028218123825\n",
      "Sx = 0.8115098294323073, Sy = 0.01843814832606454, Sz = -0.5840477989180796\n",
      "----------------------------\n"
     ]
    }
   ],
   "source": [
    "L=10\n",
    "spin4 = zeros(Spin,L)\n",
    "for i = 1:L\n",
    "    spin4[i] = randomspin()\n",
    "end\n",
    "\n",
    "for i = 1:L\n",
    "    println(spin4[i])\n",
    "end"
   ]
  },
  {
   "cell_type": "code",
   "execution_count": 8,
   "metadata": {},
   "outputs": [
    {
     "data": {
      "text/plain": [
       "H_1d_Heisenberg (generic function with 1 method)"
      ]
     },
     "execution_count": 8,
     "metadata": {},
     "output_type": "execute_result"
    }
   ],
   "source": [
    "function H_1d_Heisenberg(spin,J) \n",
    "    H = 0.0\n",
    "    for i=1:L\n",
    "        j = i+1\n",
    "        j += ifelse(j > L,-L,0)\n",
    "        H += spin[i]*spin[j]\n",
    "        H = J*H\n",
    "    end\n",
    "    return H\n",
    "end"
   ]
  },
  {
   "cell_type": "code",
   "execution_count": 9,
   "metadata": {},
   "outputs": [
    {
     "name": "stdout",
     "output_type": "stream",
     "text": [
      "3.205326338766995\n"
     ]
    }
   ],
   "source": [
    "J=1.0\n",
    "H = H_1d_Heisenberg(spin4,J)\n",
    "println(H)"
   ]
  },
  {
   "cell_type": "markdown",
   "metadata": {},
   "source": [
    "以下でスピンがすべてz軸方向に向いた状態にして、計算のチェックを行う。"
   ]
  },
  {
   "cell_type": "code",
   "execution_count": 12,
   "metadata": {},
   "outputs": [
    {
     "name": "stdout",
     "output_type": "stream",
     "text": [
      "----------------------------\n",
      "φ= 0.0, θ = 0.0\n",
      "Sx = 0.0, Sy = 0.0, Sz = 1.0\n",
      "----------------------------\n",
      "----------------------------\n",
      "φ= 0.0, θ = 0.0\n",
      "Sx = 0.0, Sy = 0.0, Sz = 1.0\n",
      "----------------------------\n",
      "----------------------------\n",
      "φ= 0.0, θ = 0.0\n",
      "Sx = 0.0, Sy = 0.0, Sz = 1.0\n",
      "----------------------------\n",
      "----------------------------\n",
      "φ= 0.0, θ = 0.0\n",
      "Sx = 0.0, Sy = 0.0, Sz = 1.0\n",
      "----------------------------\n",
      "----------------------------\n",
      "φ= 0.0, θ = 0.0\n",
      "Sx = 0.0, Sy = 0.0, Sz = 1.0\n",
      "----------------------------\n",
      "----------------------------\n",
      "φ= 0.0, θ = 0.0\n",
      "Sx = 0.0, Sy = 0.0, Sz = 1.0\n",
      "----------------------------\n",
      "----------------------------\n",
      "φ= 0.0, θ = 0.0\n",
      "Sx = 0.0, Sy = 0.0, Sz = 1.0\n",
      "----------------------------\n",
      "----------------------------\n",
      "φ= 0.0, θ = 0.0\n",
      "Sx = 0.0, Sy = 0.0, Sz = 1.0\n",
      "----------------------------\n",
      "----------------------------\n",
      "φ= 0.0, θ = 0.0\n",
      "Sx = 0.0, Sy = 0.0, Sz = 1.0\n",
      "----------------------------\n",
      "----------------------------\n",
      "φ= 0.0, θ = 0.0\n",
      "Sx = 0.0, Sy = 0.0, Sz = 1.0\n",
      "----------------------------\n"
     ]
    }
   ],
   "source": [
    "L=10\n",
    "spin5 = zeros(Spin,L)\n",
    "for i=1:L\n",
    "    println(spin5[i])\n",
    "end"
   ]
  },
  {
   "cell_type": "code",
   "execution_count": 13,
   "metadata": {},
   "outputs": [
    {
     "name": "stdout",
     "output_type": "stream",
     "text": [
      "10.0\n"
     ]
    }
   ],
   "source": [
    "J=1.0\n",
    "H = H_1d_Heisenberg(spin5,J)\n",
    "println(H)"
   ]
  },
  {
   "cell_type": "code",
   "execution_count": null,
   "metadata": {},
   "outputs": [],
   "source": []
  }
 ],
 "metadata": {
  "kernelspec": {
   "display_name": "Julia 1.1.1",
   "language": "julia",
   "name": "julia-1.1"
  },
  "language_info": {
   "file_extension": ".jl",
   "mimetype": "application/julia",
   "name": "julia",
   "version": "1.1.1"
  }
 },
 "nbformat": 4,
 "nbformat_minor": 2
}
