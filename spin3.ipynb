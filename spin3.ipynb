{
 "cells": [
  {
   "cell_type": "markdown",
   "metadata": {},
   "source": [
    "# type Spinに大きさを入れて定義する\n",
    "type Spinに古典スピンベクトルの大きさを入れて定義することで、Spinの和と差の結果をSpinで閉じる事ができる。\n",
    "$$\n",
    "\\begin{align}\n",
    "S^2 &= \\left(\\vec{S}_1+\\vec{S}_2\\right)^2  \\nonumber  \\\\\n",
    "    &= \\ S_1^2 + S_2^2 \\pm 2 S_1 S_2 \\left\\{ \n",
    "    \\sin\\theta_1 \\sin\\theta_2 \n",
    "    \\left(\\cos\\phi_1\\cos\\phi_2+\\sin\\phi_1\\sin\\phi_2\\right)\n",
    "    +\\cos\\theta_1\\cos\\theta_2 \n",
    "    \\right\\} \\nonumber \\\\\n",
    "    &= \\ S_1^2 + S_2^2 \\pm 2 S_1 S_2 \\left\\{ \n",
    "        \\sin\\theta_1 \\sin\\theta_2 \n",
    "        \\cos\\left(\\phi_1-\\phi_2\\right)\n",
    "        +\\cos\\theta_1\\cos\\theta_2 \n",
    "        \\right\\}\n",
    "\\end{align}\n",
    "$$\n",
    "\n",
    "よって、スピンの和の大きさ\\\\(S\\\\)はもとのスピンの\n",
    "パラメータ$S_1,\\,S_2 ,\\, \\phi_1 ,\\, \\phi_2 ,\\, \\theta_1 ,\\, \\theta_2$を用いて以下のようにかける。\n",
    "\n",
    "\n",
    "$$\n",
    "\\begin{align}\n",
    "    S=\\sqrt{\n",
    "        \\ S_1^2 + S_2^2 \\pm 2 S_1 S_2 \\left\\{ \n",
    "        \\sin\\theta_1 \\sin\\theta_2 \n",
    "        \\cos\\left(\\phi_1-\\phi_2\\right)\n",
    "        +\\cos\\theta_1\\cos\\theta_2 \n",
    "        \\right\\}\n",
    "        }\n",
    "\\label{eq:norm}\n",
    "\\end{align}\n",
    "$$\n",
    "\n",
    "\n",
    "スピンの\\\\(z\\\\)成分に着目すると\n",
    "\n",
    "\n",
    "$$\n",
    "\\begin{align}\n",
    "    S \\cos\\theta = S_1 \\cos\\theta_1 \\pm S_2 \\cos\\theta_2\n",
    "\\label{eq:z}\n",
    "\\end{align}\n",
    "$$\n",
    "\n",
    "\n",
    "よって$\\theta\\$は以下のようにかける。\n",
    "\n",
    "$$\n",
    "\\begin{align}\n",
    "    \\theta=\\arccos\\left[ \\frac{1}{S} \\left( S_1 \\cos\\theta_1 \\pm S_2 \\cos\\theta_2 \\right)\\right]\n",
    "\\label{eq:theta}\n",
    "\\end{align}\n",
    "$$\n",
    "\n",
    "\n",
    "また、$z$成分に着目すると\n",
    "\n",
    "$$\n",
    "\\begin{align}\n",
    "    S\\sin\\theta\\cos\\phi = S_1 \\sin\\theta_1 \\cos\\phi_1 \\pm S_2 \\sin\\theta_2 \\cos\\phi_2\n",
    "\\label{eq:x}\n",
    "\\end{align}\n",
    "$$\n",
    "\n",
    "\n",
    "よって$\\phi$は以下のように書ける。\n",
    "\n",
    "\n",
    "$$\n",
    "\\begin{align}\n",
    "    \\phi = \\arccos\n",
    "    \\left[ \n",
    "        \\frac{1}{S\\sin\\theta} \n",
    "        \\left(\n",
    "            S_1 \\sin\\theta_1 \\cos\\phi_1 \\pm S_2 \\sin\\theta_2 \\cos\\phi_2\n",
    "        \\right)\n",
    "    \\right]\n",
    "\\label{eq:phi}\n",
    "\\end{align}\n",
    "$$"
   ]
  },
  {
   "cell_type": "code",
   "execution_count": 1,
   "metadata": {},
   "outputs": [],
   "source": [
    "mutable struct Spin\n",
    "    S :: Float64\n",
    "    θ:: Float64\n",
    "    φ:: Float64\n",
    "end"
   ]
  },
  {
   "cell_type": "code",
   "execution_count": 2,
   "metadata": {},
   "outputs": [],
   "source": [
    "Base.:+(a::Spin,b::Spin) = Spin(sqrt((a.S)^2+(b.S)^2+2a.S*b.S*(sin(a.θ)*sin(b.θ)*cos(a.φ-b.φ)+cos(a.φ)*cos(b.φ))),acos(a.S*cos(a.θ)+b.S*cos(b.θ)/sqrt((a.S)^2+(b.S)^2+2a.S*b.S*(sin(a.θ)*sin(b.θ)*cos(a.φ-b.φ)+cos(a.φ)*cos(b.φ)))),acos(a.S*sin(a.θ)*cos(a.φ)+b.S*sin(b.θ)*cos(b.φ)/((sqrt((a.S)^2+(b.S)^2+2a.S*b.S*(sin(a.θ)*sin(b.θ)*cos(a.φ-b.φ)+cos(a.φ)*cos(b.φ))))*sin(acos(a.S*cos(a.θ)+b.S*cos(b.θ)/sqrt((a.S)^2+(b.S)^2+2a.S*b.S*(sin(a.θ)*sin(b.θ)*cos(a.φ-b.φ)+cos(a.φ)*cos(b.φ))))))))\n",
    "Base.:-(a::Spin,b::Spin) = Spin(sqrt((a.S)^2+(b.S)^2-2a.S*b.S*(sin(a.θ)*sin(b.θ)*cos(a.φ-b.φ)+cos(a.φ)*cos(b.φ))),acos(a.S*cos(a.θ)-b.S*cos(b.θ)/sqrt((a.S)^2+(b.S)^2+2a.S*b.S*(sin(a.θ)*sin(b.θ)*cos(a.φ-b.φ)+cos(a.φ)*cos(b.φ)))),acos(a.S*sin(a.θ)*cos(a.φ)-b.S*sin(b.θ)*cos(b.φ)/((sqrt((a.S)^2+(b.S)^2-2a.S*b.S*(sin(a.θ)*sin(b.θ)*cos(a.φ-b.φ)+cos(a.φ)*cos(b.φ))))*sin(acos(a.S*cos(a.θ)-b.S*cos(b.θ)/sqrt((a.S)^2+(b.S)^2+2a.S*b.S*(sin(a.θ)*sin(b.θ)*cos(a.φ-b.φ)+cos(a.φ)*cos(b.φ))))))))"
   ]
  },
  {
   "cell_type": "code",
   "execution_count": 3,
   "metadata": {},
   "outputs": [],
   "source": [
    "function Sxyz(spin1::Spin)\n",
    "    S=zeros(Float64,3)\n",
    "    S[1]=spin1.S*sin(spin1.θ)*cos(spin1.φ)\n",
    "    S[2]=spin1.S*sin(spin1.θ)*sin(spin1.φ)\n",
    "    S[3]=spin1.S*cos(spin1.θ)\n",
    "    return S\n",
    "end\n",
    "\n",
    "function Base.println(spin::Spin)\n",
    "    println(\"----------------------------\")\n",
    "    println(\"S=\",spin.S,\",φ= \",spin.φ,\", θ = \",spin.θ)\n",
    "    S1 = Sxyz(spin)\n",
    "    println(\"Sx = $(S1[1]), Sy = $(S1[2]), Sz = $(S1[3])\")\n",
    "    println(\"----------------------------\")\n",
    "end"
   ]
  },
  {
   "cell_type": "code",
   "execution_count": 4,
   "metadata": {},
   "outputs": [
    {
     "name": "stdout",
     "output_type": "stream",
     "text": [
      "----------------------------\n",
      "S=1.0,φ= 0.0, θ = 1.5707963267948966\n",
      "Sx = 1.0, Sy = 0.0, Sz = 6.123233995736766e-17\n",
      "----------------------------\n",
      "----------------------------\n",
      "S=1.0,φ= 1.5707963267948966, θ = 0.0\n",
      "Sx = 0.0, Sy = 0.0, Sz = 1.0\n",
      "----------------------------\n",
      "----------------------------\n",
      "S=1.4142135623730951,φ= 0.0, θ = 0.7853981633974483\n",
      "Sx = 1.0, Sy = 0.0, Sz = 1.0000000000000002\n",
      "----------------------------\n",
      "----------------------------\n",
      "S=1.414213562373095,φ= 0.0, θ = 2.356194490192345\n",
      "Sx = 1.0, Sy = 0.0, Sz = -0.9999999999999998\n",
      "----------------------------\n"
     ]
    }
   ],
   "source": [
    "spin1=Spin(1.0,π/2,0.0)\n",
    "println(spin1)\n",
    "spin2=Spin(1.0,0.0,π/2)\n",
    "println(spin2)\n",
    "println(spin1+spin2)\n",
    "println(spin1-spin2)"
   ]
  },
  {
   "cell_type": "markdown",
   "metadata": {},
   "source": [
    "このように、Spinの和と差がSpinになるようなtypeを定義する事ができた。"
   ]
  },
  {
   "cell_type": "code",
   "execution_count": null,
   "metadata": {},
   "outputs": [],
   "source": []
  }
 ],
 "metadata": {
  "kernelspec": {
   "display_name": "Julia 1.1.1",
   "language": "julia",
   "name": "julia-1.1"
  },
  "language_info": {
   "file_extension": ".jl",
   "mimetype": "application/julia",
   "name": "julia",
   "version": "1.1.1"
  }
 },
 "nbformat": 4,
 "nbformat_minor": 2
}
